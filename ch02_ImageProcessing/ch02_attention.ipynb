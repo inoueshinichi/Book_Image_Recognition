{
  "nbformat": 4,
  "nbformat_minor": 0,
  "metadata": {
    "colab": {
      "provenance": [],
      "mount_file_id": "1-C6ZFKLkFV1_7FRmjfxXgE2GX23Z72aB",
      "authorship_tag": "ABX9TyPm94rHLYUmVdaoq3Ca1JTE",
      "include_colab_link": true
    },
    "kernelspec": {
      "name": "python3",
      "display_name": "Python 3"
    },
    "language_info": {
      "name": "python"
    }
  },
  "cells": [
    {
      "cell_type": "markdown",
      "metadata": {
        "id": "view-in-github",
        "colab_type": "text"
      },
      "source": [
        "<a href=\"https://colab.research.google.com/github/inoueshinichi/Book_Image_Recognition/blob/main/ch02_attention.ipynb\" target=\"_parent\"><img src=\"https://colab.research.google.com/assets/colab-badge.svg\" alt=\"Open In Colab\"/></a>"
      ]
    },
    {
      "cell_type": "markdown",
      "source": [
        "# 注意機構を使った特徴量抽出"
      ],
      "metadata": {
        "id": "WlLqzlvCtm_O"
      }
    },
    {
      "cell_type": "code",
      "source": [
        "from PIL import Image\n",
        "import numpy as np\n",
        "\n",
        "# Googleドライブをマウント\n",
        "from google.colab import drive\n",
        "drive.mount('/content/drive')"
      ],
      "metadata": {
        "colab": {
          "base_uri": "https://localhost:8080/"
        },
        "id": "MUDX-oOstpdf",
        "outputId": "2f745e51-49a2-4d94-ad28-7f29170e7c2b"
      },
      "execution_count": 1,
      "outputs": [
        {
          "output_type": "stream",
          "name": "stdout",
          "text": [
            "Mounted at /content/drive\n"
          ]
        }
      ]
    },
    {
      "cell_type": "markdown",
      "source": [
        "## 特徴空間への射影"
      ],
      "metadata": {
        "id": "oysBdmo1uMvQ"
      }
    },
    {
      "cell_type": "code",
      "source": [
        "# 画像の読み込み\n",
        "img = Image.open('drive/MyDrive/Colab Notebooks/Book_Python_DL_Recognition/data/cosmos.jpg')\n",
        "\n",
        "# NumPyを使うため画像をNumPy配列に変換\n",
        "img = np.asarray(img, dtype='float32')\n",
        "\n",
        "# 画像を特徴空間に射影\n",
        "w = np.array([[ 0.0065, -0.0045, -0.0018,  0.0075,\n",
        "                0.0095,  0.0075, -0.0026,  0.0022],\n",
        "              [-0.0065,  0.0081,  0.0097, -0.0070,\n",
        "               -0.0086, -0.0107,  0.0062, -0.0050],\n",
        "              [ 0.0024, -0.0018,  0.0002,  0.0023,\n",
        "                0.0017,  0.0021, -0.0017,  0.0016]])\n",
        "features = np.matmul(img, w)"
      ],
      "metadata": {
        "id": "yNPAQqE4uPJJ"
      },
      "execution_count": null,
      "outputs": []
    },
    {
      "cell_type": "markdown",
      "source": [
        "## アテンションの計算"
      ],
      "metadata": {
        "id": "1TOSkIQxum_2"
      }
    },
    {
      "cell_type": "code",
      "source": [
        "# アテンション計算用の特徴を画像から抽出\n",
        "feature_white = features[50, 50]\n",
        "feature_pink = features[200, 200]\n",
        "\n",
        "# アテンションの計算\n",
        "atten_white = np.matmul(features, feature_white)\n",
        "atten_pink = np.matmul(features, feature_pink)\n",
        "\n",
        "# ソフトマックスの計算\n",
        "atten_white = np.exp(atten_white) / np.sum(np.exp(atten_white))\n",
        "atten_pink = np.exp(atten_pink) / np.sum(np.exp(atten_pink))"
      ],
      "metadata": {
        "id": "_2pfm-G_ulaM"
      },
      "execution_count": null,
      "outputs": []
    },
    {
      "cell_type": "markdown",
      "source": [
        "## 注意の表示"
      ],
      "metadata": {
        "id": "ADcHW6RGvBJU"
      }
    },
    {
      "cell_type": "code",
      "source": [
        "# 表示用に最大・最小値で正規化\n",
        "atten_white = (atten_white - np.amin(atten_white)) / \\\n",
        "    (np.amax(atten_white) - np.amin(atten_white))\n",
        "atten_pink = (atten_pink - np.amin(atten_pink)) / \\\n",
        "    (np.amax(atten_pink) - np.amin(atten_pink))\n",
        "\n",
        "# NumPy配列をPIL画像に変換\n",
        "img_atten_white = Image.fromarray(\n",
        "    (atten_white * 255).astype('uint8'))\n",
        "img_atten_pink = Image.fromarray(\n",
        "    (atten_pink * 255).astype('uint8'))\n",
        "\n",
        "print('白のコスモスに対するアテンション')\n",
        "display(img_atten_white)\n",
        "print('ピンクのコスモスに対するアテンション')\n",
        "display(img_atten_pink)"
      ],
      "metadata": {
        "id": "2ssG7gMxvCp6"
      },
      "execution_count": null,
      "outputs": []
    }
  ]
}